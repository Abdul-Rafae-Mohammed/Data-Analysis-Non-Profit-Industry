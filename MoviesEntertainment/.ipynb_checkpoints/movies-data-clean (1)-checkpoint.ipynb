{
 "cells": [
  {
   "cell_type": "markdown",
   "metadata": {
    "_uuid": "c750ca409674a3ecd7a9c9197c54e434b61c039d"
   },
   "source": [
    "# The Movies Dataset\n",
    "###### Metadata on over 45,000 movies from TMDB (Movies database)\n",
    "\n",
    "## Import the metadata about movies : Merge, minor cleaning, export\n",
    "* Data source: The movies database, for ~45K movies in movielens data\n",
    "* DAta + kernel on kaggle datasets:  https://www.kaggle.com/rounakbanik/the-movies-dataset\n",
    "\n",
    "* Additional dataset from TMDB (for 5K movies): https://www.kaggle.com/tmdb/tmdb-movie-metadata\n",
    "\n",
    "    * relevant EDA kernels: \n",
    "        * https://www.kaggle.com/rounakbanik/the-story-of-film\n",
    "        * https://www.kaggle.com/rounakbanik/movie-recommender-systems\n",
    "        \n",
    "## Data description:\n",
    "* Context\n",
    "These files contain metadata for all 45,000 movies listed in the Full MovieLens Dataset. The dataset consists of movies released on or before July 2017. Data points include cast, crew, plot keywords, budget, revenue, posters, release dates, languages, production companies, countries, TMDB vote counts and vote averages.\n",
    "\n",
    "\n",
    "* Content\n",
    "This dataset consists of the following files:\n",
    "\n",
    "    * movies_metadata.csv: The main Movies Metadata file. Contains information on 45,000 movies featured in the Full MovieLens dataset. Features include posters, backdrops, budget, revenue, release dates, languages, production countries and companies.\n",
    "\n",
    "    * keywords.csv: Contains the movie plot keywords for our MovieLens movies. Available in the form of a stringified JSON Object.\n",
    "\n",
    "    * credits.csv: Consists of Cast and Crew Information for all our movies. Available in the form of a stringified JSON Object.\n",
    "\n",
    "    * links.csv: The file that contains the TMDB and IMDB IDs of all the movies featured in the Full MovieLens dataset.\n",
    "\n",
    "    * The Full MovieLens Dataset consisting of 26 million ratings and 750,000 tag applications from 270,000 users on all the 45,000 movies in this dataset can be accessed here: https://grouplens.org/datasets/movielens/latest/\n",
    "    \n",
    "    * I don't attach here the user rating dataset\n",
    "\n",
    "* Acknowledgements\n",
    "This dataset is an ensemble of data collected from TMDB and GroupLens. The Movie Details, Credits and Keywords have been collected from the TMDB Open API. This product uses the TMDb API but is not endorsed or certified by TMDb. Their API also provides access to data on many additional movies, actors and actresses, crew members, and TV shows. You can try it for yourself here: https://grouplens.org/datasets/movielens/latest/\n",
    "\n",
    "The Movie Links and Ratings have been obtained from the Official GroupLens website. The files are a part of the dataset available here: https://grouplens.org/datasets/movielens/latest/\n",
    "\n",
    "* Dan Ofer"
   ]
  },
  {
   "cell_type": "code",
   "execution_count": 2,
   "metadata": {
    "_cell_guid": "66ebf179-bec4-4e9d-94cd-f230251b3ebb",
    "_uuid": "1149acaeae3eb67d8dc8b87727874a65147d9569"
   },
   "outputs": [],
   "source": [
    "import numpy as np # linear algebra\n",
    "import pandas as pd # data processing, CSV file I/O (e.g. pd.read_csv)\n",
    "\n",
    "# Input data files are available in the \"../input/\" directory.\n",
    "# from subprocess import check_output\n",
    "# print(check_output([\"ls\", \"../input\"]).decode(\"utf8\"))\n",
    "# Any results you write to the current directory are saved as output.\n",
    "\n",
    "from ast import literal_eval\n",
    "import ast"
   ]
  },
  {
   "cell_type": "code",
   "execution_count": 3,
   "metadata": {
    "_uuid": "0b80ed6d87623eb3a5613251d2ad91db4c856afc"
   },
   "outputs": [],
   "source": [
    "PATH = \"Data/\""
   ]
  },
  {
   "cell_type": "code",
   "execution_count": 4,
   "metadata": {
    "_uuid": "25bf8793cc9ff3f758d4d015de9b814118734b64"
   },
   "outputs": [
    {
     "name": "stdout",
     "output_type": "stream",
     "text": [
      "\n",
      " keywords: \n",
      " Index(['id', 'keywords'], dtype='object')\n",
      "\n",
      " links: \n",
      " Index(['movieId', 'imdbId', 'tmdbId'], dtype='object')\n"
     ]
    }
   ],
   "source": [
    "# df_credits = pd.read_csv(PATH+\"credits.csv\")\n",
    "# print(\"credits: \\n \", df_credits.columns)\n",
    "df_keywords = pd.read_csv(PATH+\"keywords.csv\")\n",
    "print(\"\\n keywords: \\n\", df_keywords.columns)\n",
    "\n",
    "df_links = pd.read_csv(PATH+\"links.csv\")\n",
    "print(\"\\n links: \\n\", df_links.columns)"
   ]
  },
  {
   "cell_type": "code",
   "execution_count": 5,
   "metadata": {
    "_uuid": "b9710f0406dbae1abf2502e08787d16df0ce98ce",
    "scrolled": true
   },
   "outputs": [
    {
     "name": "stderr",
     "output_type": "stream",
     "text": [
      "/anaconda3/envs/sample/lib/python3.6/site-packages/IPython/core/interactiveshell.py:3018: DtypeWarning: Columns (10) have mixed types. Specify dtype option on import or set low_memory=False.\n",
      "  interactivity=interactivity, compiler=compiler, result=result)\n"
     ]
    },
    {
     "data": {
      "text/html": [
       "<div>\n",
       "<style scoped>\n",
       "    .dataframe tbody tr th:only-of-type {\n",
       "        vertical-align: middle;\n",
       "    }\n",
       "\n",
       "    .dataframe tbody tr th {\n",
       "        vertical-align: top;\n",
       "    }\n",
       "\n",
       "    .dataframe thead th {\n",
       "        text-align: right;\n",
       "    }\n",
       "</style>\n",
       "<table border=\"1\" class=\"dataframe\">\n",
       "  <thead>\n",
       "    <tr style=\"text-align: right;\">\n",
       "      <th></th>\n",
       "      <th>adult</th>\n",
       "      <th>belongs_to_collection</th>\n",
       "      <th>budget</th>\n",
       "      <th>genres</th>\n",
       "      <th>homepage</th>\n",
       "      <th>id</th>\n",
       "      <th>imdb_id</th>\n",
       "      <th>original_language</th>\n",
       "      <th>original_title</th>\n",
       "      <th>overview</th>\n",
       "      <th>...</th>\n",
       "      <th>release_date</th>\n",
       "      <th>revenue</th>\n",
       "      <th>runtime</th>\n",
       "      <th>spoken_languages</th>\n",
       "      <th>status</th>\n",
       "      <th>tagline</th>\n",
       "      <th>title</th>\n",
       "      <th>video</th>\n",
       "      <th>vote_average</th>\n",
       "      <th>vote_count</th>\n",
       "    </tr>\n",
       "  </thead>\n",
       "  <tbody>\n",
       "    <tr>\n",
       "      <th>0</th>\n",
       "      <td>False</td>\n",
       "      <td>{'id': 10194, 'name': 'Toy Story Collection', ...</td>\n",
       "      <td>30000000</td>\n",
       "      <td>[{'id': 16, 'name': 'Animation'}, {'id': 35, '...</td>\n",
       "      <td>http://toystory.disney.com/toy-story</td>\n",
       "      <td>862</td>\n",
       "      <td>tt0114709</td>\n",
       "      <td>en</td>\n",
       "      <td>Toy Story</td>\n",
       "      <td>Led by Woody, Andy's toys live happily in his ...</td>\n",
       "      <td>...</td>\n",
       "      <td>1995-10-30</td>\n",
       "      <td>373554033.0</td>\n",
       "      <td>81.0</td>\n",
       "      <td>[{'iso_639_1': 'en', 'name': 'English'}]</td>\n",
       "      <td>Released</td>\n",
       "      <td>NaN</td>\n",
       "      <td>Toy Story</td>\n",
       "      <td>False</td>\n",
       "      <td>7.7</td>\n",
       "      <td>5415.0</td>\n",
       "    </tr>\n",
       "    <tr>\n",
       "      <th>1</th>\n",
       "      <td>False</td>\n",
       "      <td>NaN</td>\n",
       "      <td>65000000</td>\n",
       "      <td>[{'id': 12, 'name': 'Adventure'}, {'id': 14, '...</td>\n",
       "      <td>NaN</td>\n",
       "      <td>8844</td>\n",
       "      <td>tt0113497</td>\n",
       "      <td>en</td>\n",
       "      <td>Jumanji</td>\n",
       "      <td>When siblings Judy and Peter discover an encha...</td>\n",
       "      <td>...</td>\n",
       "      <td>1995-12-15</td>\n",
       "      <td>262797249.0</td>\n",
       "      <td>104.0</td>\n",
       "      <td>[{'iso_639_1': 'en', 'name': 'English'}, {'iso...</td>\n",
       "      <td>Released</td>\n",
       "      <td>Roll the dice and unleash the excitement!</td>\n",
       "      <td>Jumanji</td>\n",
       "      <td>False</td>\n",
       "      <td>6.9</td>\n",
       "      <td>2413.0</td>\n",
       "    </tr>\n",
       "    <tr>\n",
       "      <th>2</th>\n",
       "      <td>False</td>\n",
       "      <td>{'id': 119050, 'name': 'Grumpy Old Men Collect...</td>\n",
       "      <td>0</td>\n",
       "      <td>[{'id': 10749, 'name': 'Romance'}, {'id': 35, ...</td>\n",
       "      <td>NaN</td>\n",
       "      <td>15602</td>\n",
       "      <td>tt0113228</td>\n",
       "      <td>en</td>\n",
       "      <td>Grumpier Old Men</td>\n",
       "      <td>A family wedding reignites the ancient feud be...</td>\n",
       "      <td>...</td>\n",
       "      <td>1995-12-22</td>\n",
       "      <td>0.0</td>\n",
       "      <td>101.0</td>\n",
       "      <td>[{'iso_639_1': 'en', 'name': 'English'}]</td>\n",
       "      <td>Released</td>\n",
       "      <td>Still Yelling. Still Fighting. Still Ready for...</td>\n",
       "      <td>Grumpier Old Men</td>\n",
       "      <td>False</td>\n",
       "      <td>6.5</td>\n",
       "      <td>92.0</td>\n",
       "    </tr>\n",
       "    <tr>\n",
       "      <th>3</th>\n",
       "      <td>False</td>\n",
       "      <td>NaN</td>\n",
       "      <td>16000000</td>\n",
       "      <td>[{'id': 35, 'name': 'Comedy'}, {'id': 18, 'nam...</td>\n",
       "      <td>NaN</td>\n",
       "      <td>31357</td>\n",
       "      <td>tt0114885</td>\n",
       "      <td>en</td>\n",
       "      <td>Waiting to Exhale</td>\n",
       "      <td>Cheated on, mistreated and stepped on, the wom...</td>\n",
       "      <td>...</td>\n",
       "      <td>1995-12-22</td>\n",
       "      <td>81452156.0</td>\n",
       "      <td>127.0</td>\n",
       "      <td>[{'iso_639_1': 'en', 'name': 'English'}]</td>\n",
       "      <td>Released</td>\n",
       "      <td>Friends are the people who let you be yourself...</td>\n",
       "      <td>Waiting to Exhale</td>\n",
       "      <td>False</td>\n",
       "      <td>6.1</td>\n",
       "      <td>34.0</td>\n",
       "    </tr>\n",
       "    <tr>\n",
       "      <th>4</th>\n",
       "      <td>False</td>\n",
       "      <td>{'id': 96871, 'name': 'Father of the Bride Col...</td>\n",
       "      <td>0</td>\n",
       "      <td>[{'id': 35, 'name': 'Comedy'}]</td>\n",
       "      <td>NaN</td>\n",
       "      <td>11862</td>\n",
       "      <td>tt0113041</td>\n",
       "      <td>en</td>\n",
       "      <td>Father of the Bride Part II</td>\n",
       "      <td>Just when George Banks has recovered from his ...</td>\n",
       "      <td>...</td>\n",
       "      <td>1995-02-10</td>\n",
       "      <td>76578911.0</td>\n",
       "      <td>106.0</td>\n",
       "      <td>[{'iso_639_1': 'en', 'name': 'English'}]</td>\n",
       "      <td>Released</td>\n",
       "      <td>Just When His World Is Back To Normal... He's ...</td>\n",
       "      <td>Father of the Bride Part II</td>\n",
       "      <td>False</td>\n",
       "      <td>5.7</td>\n",
       "      <td>173.0</td>\n",
       "    </tr>\n",
       "  </tbody>\n",
       "</table>\n",
       "<p>5 rows × 24 columns</p>\n",
       "</div>"
      ],
      "text/plain": [
       "   adult                              belongs_to_collection    budget  \\\n",
       "0  False  {'id': 10194, 'name': 'Toy Story Collection', ...  30000000   \n",
       "1  False                                                NaN  65000000   \n",
       "2  False  {'id': 119050, 'name': 'Grumpy Old Men Collect...         0   \n",
       "3  False                                                NaN  16000000   \n",
       "4  False  {'id': 96871, 'name': 'Father of the Bride Col...         0   \n",
       "\n",
       "                                              genres  \\\n",
       "0  [{'id': 16, 'name': 'Animation'}, {'id': 35, '...   \n",
       "1  [{'id': 12, 'name': 'Adventure'}, {'id': 14, '...   \n",
       "2  [{'id': 10749, 'name': 'Romance'}, {'id': 35, ...   \n",
       "3  [{'id': 35, 'name': 'Comedy'}, {'id': 18, 'nam...   \n",
       "4                     [{'id': 35, 'name': 'Comedy'}]   \n",
       "\n",
       "                               homepage     id    imdb_id original_language  \\\n",
       "0  http://toystory.disney.com/toy-story    862  tt0114709                en   \n",
       "1                                   NaN   8844  tt0113497                en   \n",
       "2                                   NaN  15602  tt0113228                en   \n",
       "3                                   NaN  31357  tt0114885                en   \n",
       "4                                   NaN  11862  tt0113041                en   \n",
       "\n",
       "                original_title  \\\n",
       "0                    Toy Story   \n",
       "1                      Jumanji   \n",
       "2             Grumpier Old Men   \n",
       "3            Waiting to Exhale   \n",
       "4  Father of the Bride Part II   \n",
       "\n",
       "                                            overview    ...     release_date  \\\n",
       "0  Led by Woody, Andy's toys live happily in his ...    ...       1995-10-30   \n",
       "1  When siblings Judy and Peter discover an encha...    ...       1995-12-15   \n",
       "2  A family wedding reignites the ancient feud be...    ...       1995-12-22   \n",
       "3  Cheated on, mistreated and stepped on, the wom...    ...       1995-12-22   \n",
       "4  Just when George Banks has recovered from his ...    ...       1995-02-10   \n",
       "\n",
       "       revenue runtime                                   spoken_languages  \\\n",
       "0  373554033.0    81.0           [{'iso_639_1': 'en', 'name': 'English'}]   \n",
       "1  262797249.0   104.0  [{'iso_639_1': 'en', 'name': 'English'}, {'iso...   \n",
       "2          0.0   101.0           [{'iso_639_1': 'en', 'name': 'English'}]   \n",
       "3   81452156.0   127.0           [{'iso_639_1': 'en', 'name': 'English'}]   \n",
       "4   76578911.0   106.0           [{'iso_639_1': 'en', 'name': 'English'}]   \n",
       "\n",
       "     status                                            tagline  \\\n",
       "0  Released                                                NaN   \n",
       "1  Released          Roll the dice and unleash the excitement!   \n",
       "2  Released  Still Yelling. Still Fighting. Still Ready for...   \n",
       "3  Released  Friends are the people who let you be yourself...   \n",
       "4  Released  Just When His World Is Back To Normal... He's ...   \n",
       "\n",
       "                         title  video vote_average vote_count  \n",
       "0                    Toy Story  False          7.7     5415.0  \n",
       "1                      Jumanji  False          6.9     2413.0  \n",
       "2             Grumpier Old Men  False          6.5       92.0  \n",
       "3            Waiting to Exhale  False          6.1       34.0  \n",
       "4  Father of the Bride Part II  False          5.7      173.0  \n",
       "\n",
       "[5 rows x 24 columns]"
      ]
     },
     "execution_count": 5,
     "metadata": {},
     "output_type": "execute_result"
    }
   ],
   "source": [
    "df = pd.read_csv(PATH+\"movies_metadata.csv\")\n",
    "df.head()"
   ]
  },
  {
   "cell_type": "markdown",
   "metadata": {
    "_uuid": "bb4984edbfe8bb64667bcd279da9756dcd8a5f8f"
   },
   "source": [
    "### Some columns types are read badly : fix\n",
    "* ID column should be numeric.\n",
    "* we can see this using dtype (merge/join also would fail). \n",
    "* it has no nulls though.\n",
    "* debug by printing non numeric rows in it:\n",
    "    * Finally: drop these (few) bad rows"
   ]
  },
  {
   "cell_type": "code",
   "execution_count": null,
   "metadata": {
    "_uuid": "7132be8a9db2e56928d9013d4ff5f573fe6a2183",
    "scrolled": true
   },
   "outputs": [],
   "source": [
    "df[[\"id\",\"imdb_id\"]].dtypes"
   ]
  },
  {
   "cell_type": "code",
   "execution_count": null,
   "metadata": {
    "_uuid": "616e730ae83970676643b51b8881c09e6bd60957"
   },
   "outputs": [],
   "source": [
    "df.isnull().sum()\n",
    "\n",
    "# there's also 1 missing for cast/crew : we'll drop that row later"
   ]
  },
  {
   "cell_type": "code",
   "execution_count": null,
   "metadata": {
    "_uuid": "3b77c940bae0010a3e17a23dfa3ffb99c55271e3"
   },
   "outputs": [],
   "source": [
    "# Only 3 bad rows!\n",
    "print (df[pd.to_numeric(df['id'], errors='coerce').isnull()])"
   ]
  },
  {
   "cell_type": "code",
   "execution_count": null,
   "metadata": {
    "_uuid": "c5a152b02f4f66dd24b68c19113575ace3ff88c3"
   },
   "outputs": [],
   "source": [
    "df.shape"
   ]
  },
  {
   "cell_type": "code",
   "execution_count": null,
   "metadata": {
    "_uuid": "7feef3526e67d7f8e4a1f9e5aebc52bde0dd666b"
   },
   "outputs": [],
   "source": [
    "df[\"id\"] =pd.to_numeric(df['id'], errors='coerce',downcast=\"integer\")\n",
    "# df[\"imdb_id\"] =pd.to_numeric(df['imdb_id'], errors='coerce',downcast=\"integer\")\n",
    "df.dropna(subset=[\"id\"],inplace=True)\n",
    "df.shape"
   ]
  },
  {
   "cell_type": "code",
   "execution_count": null,
   "metadata": {
    "_uuid": "dc7cc901aec52bead4da7d040a872d97653a8460"
   },
   "outputs": [],
   "source": [
    "df.dropna(subset=[\"imdb_id\"]).shape"
   ]
  },
  {
   "cell_type": "code",
   "execution_count": null,
   "metadata": {
    "_uuid": "db536990a5012a79886cfe96d3bbd74f88f35dce",
    "scrolled": true
   },
   "outputs": [],
   "source": [
    "# print(df.shape)\n",
    "print(\"df_credits\",df_credits.shape)\n"
   ]
  },
  {
   "cell_type": "code",
   "execution_count": null,
   "metadata": {
    "_uuid": "8dafa56512f276747813b0bccb4801c0b1973aaf"
   },
   "outputs": [],
   "source": [
    "df_credits.head(3)"
   ]
  },
  {
   "cell_type": "code",
   "execution_count": null,
   "metadata": {
    "_uuid": "95ec7d8ec199f2c905cf8c4e8a7eb7d9e7f090a3"
   },
   "outputs": [],
   "source": [
    "df.head(3)"
   ]
  },
  {
   "cell_type": "code",
   "execution_count": null,
   "metadata": {
    "_uuid": "37812d36505478167b91887ad434b6e7f110cffb"
   },
   "outputs": [],
   "source": [
    "df = df.merge(df_credits,on=[\"id\"],how=\"left\")"
   ]
  },
  {
   "cell_type": "code",
   "execution_count": null,
   "metadata": {
    "_uuid": "ba335ec08c2306c85e9adcb85b4c8bec6b9fef4e"
   },
   "outputs": [],
   "source": [
    "print(df_links.shape)\n",
    "df_links.head()"
   ]
  },
  {
   "cell_type": "code",
   "execution_count": null,
   "metadata": {
    "_uuid": "03458ec220feb98266836da2cc7e3fea6f6a5029"
   },
   "outputs": [],
   "source": [
    "df = df.merge(df_keywords,on=[\"id\"],how=\"left\")"
   ]
  },
  {
   "cell_type": "code",
   "execution_count": null,
   "metadata": {
    "_uuid": "77072cfc2c4a7c3e53dfe39fefbcf4a644c31767"
   },
   "outputs": [],
   "source": [
    "print(\"missing imdb ids in main data:\",df[\"imdb_id\"].isnull().sum())\n",
    "print(\"LINK data missing Imdb ids:\",df_links[\"imdbId\"].isnull().sum())\n",
    "print(\"LINK data missing Tmdb ids:\",df_links[\"tmdbId\"].isnull().sum())\n",
    "# looks like our coercion lost many rows. We don't really care about imdb IDs so we can ignore frankly.."
   ]
  },
  {
   "cell_type": "code",
   "execution_count": null,
   "metadata": {
    "_uuid": "eba277fece11ec1ce1422601d485c619530df7f3"
   },
   "outputs": [],
   "source": [
    "# we see matching is poor for ID-movieId- but do we care? \n",
    "df.drop([\"imdb_id\"],axis=1).merge(df_links,left_on=\"id\",right_on=\"movieId\",how=\"inner\").shape"
   ]
  },
  {
   "cell_type": "code",
   "execution_count": null,
   "metadata": {
    "_uuid": "993113b631299c31ce7026bc70a503c8a0139c33"
   },
   "outputs": [],
   "source": [
    "# imdbID match rate: \n",
    "df.merge(df_links,left_on=\"imdb_id\",right_on=\"imdbId\",how=\"inner\").shape"
   ]
  },
  {
   "cell_type": "markdown",
   "metadata": {
    "_uuid": "507fcdd938eb812b5ac908a6c610b1f908f9217b"
   },
   "source": [
    "## We see we have poor matching with imdb/tmdb, likely related to data type\n",
    "* to avoid \"down the road\" confusion, so SKIPping merging with the IMDB, TMDB columns, as missing/partial/noisy data is worse than not having the columns!\n",
    " * Can be fixed"
   ]
  },
  {
   "cell_type": "code",
   "execution_count": null,
   "metadata": {
    "_uuid": "ac1b0839cb20bfc48fa708a56c212333f32e78bb"
   },
   "outputs": [],
   "source": [
    "# we don't merge due to bad ,atching - data wrangling issue, can be fixed\n",
    "# df = df.merge(df_links,left_on=\"id\",right_on=\"movieId\",how=\"left\")"
   ]
  },
  {
   "cell_type": "code",
   "execution_count": null,
   "metadata": {
    "_uuid": "9e02dce49a637f0af94aaaddd6a17a6383302840"
   },
   "outputs": [],
   "source": [
    "df.shape"
   ]
  },
  {
   "cell_type": "code",
   "execution_count": null,
   "metadata": {
    "_uuid": "0a85948638ef4a3676bdbcd25af34fcfafba3572"
   },
   "outputs": [],
   "source": [
    "df.head()"
   ]
  },
  {
   "cell_type": "code",
   "execution_count": null,
   "metadata": {
    "_uuid": "988443f25db254b2bd07840ec397ecccc82f38cb"
   },
   "outputs": [],
   "source": [
    "df.shape"
   ]
  },
  {
   "cell_type": "code",
   "execution_count": null,
   "metadata": {
    "_uuid": "9cf97818d285663f19a6688deebc7f3777ed6b72",
    "scrolled": true
   },
   "outputs": [],
   "source": [
    "df.drop_duplicates().shape"
   ]
  },
  {
   "cell_type": "markdown",
   "metadata": {
    "_uuid": "a54c7b386cf05ac08b65b951829cdd35fb189dea"
   },
   "source": [
    "# some data cleaning: \n",
    "* replace 0 budget with NaNs..\n",
    "* drop row with missing cast/crew\n",
    "\n",
    "* 0 budget/revenue from: https://www.kaggle.com/rounakbanik/the-story-of-film"
   ]
  },
  {
   "cell_type": "code",
   "execution_count": null,
   "metadata": {
    "_uuid": "9ea68d80320851c05ba4c21370f3bbb26cb871d6"
   },
   "outputs": [],
   "source": [
    "df.isnull().sum()"
   ]
  },
  {
   "cell_type": "code",
   "execution_count": null,
   "metadata": {
    "_uuid": "a3aa471e12eac12919590e9ffe25a49d886cb6a0"
   },
   "outputs": [],
   "source": [
    "df.dropna(subset=[\"cast\",\"crew\",\"keywords\",\"popularity\"],inplace=True)\n",
    "print(df.shape)"
   ]
  },
  {
   "cell_type": "code",
   "execution_count": null,
   "metadata": {
    "_uuid": "498c2d2f596f81cebd62459fdaefb19a922b8262"
   },
   "outputs": [],
   "source": [
    "df['budget'] = pd.to_numeric(df['budget'], errors='coerce')\n",
    "df['budget'] = df['budget'].replace(0, np.nan)\n",
    "\n",
    "df['revenue'] = df['revenue'].replace(0, np.nan)"
   ]
  },
  {
   "cell_type": "markdown",
   "metadata": {
    "_uuid": "a254728c227797adda0e27dbcddd259a84a54796"
   },
   "source": [
    "### Add form of weighted average (IMDB)\n",
    "* modified original formula as we don't care if a movie has 0 raings , so i add some noise/lambda 0\n",
    "Source:\n",
    "https://www.kaggle.com/rounakbanik/movie-recommender-systems\n",
    "\n",
    "* Weighted Rating (WR) =  (vv+m.R)+(mv+m.C)(vv+m.R)+(mv+m.C) \n",
    "where,\n",
    "\n",
    "v is the number of votes for the movie\n",
    "m is the minimum votes required to be listed in the chart\n",
    "R is the average rating of the movie\n",
    "C is the mean vote across the whole report"
   ]
  },
  {
   "cell_type": "code",
   "execution_count": null,
   "metadata": {
    "_uuid": "f81a685a9734d5cc7c202f66395982db63d29e9a"
   },
   "outputs": [],
   "source": [
    "vote_counts = df[df['vote_count'].notnull()]['vote_count'].astype('int')\n",
    "vote_averages = df[df['vote_average'].notnull()]['vote_average'].astype('int')\n",
    "C = vote_averages.mean()\n",
    "\n",
    "m = vote_counts.quantile(0.75)\n",
    "\n",
    "def weighted_rating(x):\n",
    "    v = x['vote_count']+1 # added +1 - Dan\n",
    "    R = x['vote_average']\n",
    "    return (v/(v+m) * R) + (m/(m+v) * C)\n",
    "\n",
    "df['weighted_rating'] = df.apply(weighted_rating, axis=1)\n"
   ]
  },
  {
   "cell_type": "markdown",
   "metadata": {
    "_uuid": "cf78138eb156440c19988e778376c182010ee51c"
   },
   "source": [
    "## clean list of genres/lists:\n",
    "* https://www.kaggle.com/rounakbanik/movie-recommender-systems\n",
    "\n",
    "* lots \"read list/dict as type then parse it into list, dropping the IDs.\n",
    "* I don't do this for cast data  -there's too much stuff there. "
   ]
  },
  {
   "cell_type": "code",
   "execution_count": null,
   "metadata": {
    "_uuid": "130d77869ecefc725ec9d3c9ee51550ebdd15e17"
   },
   "outputs": [],
   "source": [
    "df['genres'] = df['genres'].fillna('[]').apply(literal_eval).apply(lambda x: [i['name'] for i in x] if isinstance(x, list) else [])"
   ]
  },
  {
   "cell_type": "code",
   "execution_count": null,
   "metadata": {
    "_uuid": "96f265888edb4fbee995cfbccecbe1cae7625906"
   },
   "outputs": [],
   "source": [
    "df['cast'] = df['cast'].apply(literal_eval)\n",
    "df['crew'] = df['crew'].apply(literal_eval)\n",
    "df['keywords'] = df['keywords'].apply(literal_eval)\n",
    "df['cast_size'] = df['cast'].apply(lambda x: len(x))\n",
    "df['crew_size'] = df['crew'].apply(lambda x: len(x))"
   ]
  },
  {
   "cell_type": "code",
   "execution_count": null,
   "metadata": {
    "_uuid": "9cfb55292ad9824b2af130de84cada3e182e888a"
   },
   "outputs": [],
   "source": [
    "def get_director(x):\n",
    "    for i in x:\n",
    "        if i['job'] == 'Director':\n",
    "            return i['name']\n",
    "    return np.nan\n",
    "df['director'] = df['crew'].apply(get_director)"
   ]
  },
  {
   "cell_type": "markdown",
   "metadata": {
    "_uuid": "bbb5a7e0413c2ae433afdc9a5f2f488f81fd4454"
   },
   "source": [
    "##### The literal_eval breaks  if nans in data - could be replaced with json load\n",
    "* original code works if nans removed.[](http://)\n",
    "    * https://www.kaggle.com/rounakbanik/movie-recommender-systems  = origin (used literal_eval)"
   ]
  },
  {
   "cell_type": "code",
   "execution_count": null,
   "metadata": {
    "_uuid": "40d2192ae418748067c40c68ab425295cd418194",
    "scrolled": true
   },
   "outputs": [],
   "source": [
    "# import json\n",
    "# df['keywords'].iloc[0].replace(\"'\",'\"').str\n",
    "\n",
    "# # works for 1 row:\n",
    "# json.loads(df['keywords'].iloc[0].replace(\"'\",'\"'))"
   ]
  },
  {
   "cell_type": "code",
   "execution_count": null,
   "metadata": {
    "_uuid": "87568dc0657b1d8450ef0c15cd245b1259c306bc",
    "collapsed": true
   },
   "outputs": [],
   "source": [
    "df['cast'] = df['cast'].apply(lambda x: [i['name'] for i in x] if isinstance(x, list) else [])\n",
    "df['cast'] = df['cast'].apply(lambda x: x[:3] if len(x) >=3 else x)\n",
    "\n",
    "df['keywords'] = df['keywords'].apply(lambda x: [i['name'] for i in x] if isinstance(x, list) else [])"
   ]
  },
  {
   "cell_type": "code",
   "execution_count": null,
   "metadata": {
    "_uuid": "ca89f0ae72f020e2133d5dc3c411280c362cbf70"
   },
   "outputs": [],
   "source": [
    "df['production_countries'].head()"
   ]
  },
  {
   "cell_type": "code",
   "execution_count": null,
   "metadata": {
    "_uuid": "cb7fff0c58c788a61067aca80e88dc91580baa1e"
   },
   "outputs": [],
   "source": [
    "df['production_countries'] = df['production_countries'].fillna('[]').apply(ast.literal_eval)\n",
    "df['production_countries'] = df['production_countries'].apply(lambda x: [i['name'] for i in x] if isinstance(x, list) else [])"
   ]
  },
  {
   "cell_type": "code",
   "execution_count": null,
   "metadata": {
    "_uuid": "bd92fae271ee3b4ec059d0b4c2444460bb4accc2"
   },
   "outputs": [],
   "source": [
    "df['production_countries'].head(2)"
   ]
  },
  {
   "cell_type": "code",
   "execution_count": null,
   "metadata": {
    "_uuid": "bd12eb6450ff5ee119c77e92d4d742cbffaa610b",
    "collapsed": true
   },
   "outputs": [],
   "source": [
    "df['revenue_divide_budget'] = df['revenue'] / df['budget']"
   ]
  },
  {
   "cell_type": "markdown",
   "metadata": {
    "_uuid": "c701049e30fdd4dcf5b0531ca4cac2adb688a91f"
   },
   "source": [
    "* is in franchise?\n",
    "* https://www.kaggle.com/rounakbanik/the-story-of-film\n",
    "    * https://www.kaggleusercontent.com/kf/1657626/eyJhbGciOiJkaXIiLCJlbmMiOiJBMTI4Q0JDLUhTMjU2In0..eEbV7U4MaFNpa7b0YfReIA.IN9Jh-3aT-tHObvb4Sb0OcwP7PuwPCUfLWa0_ylT6IHO3NEjlTmx7S-hWZF2Z1MJkM7nw6gBNYBi76sEElfDTNhwkDVg2obqCotynu9c7c-xkoRCDxkm7KGMiCkRW_7e.-ceLL39hoIgr4W6iO1nLMA/__results__.html#Franchise-Movies"
   ]
  },
  {
   "cell_type": "code",
   "execution_count": null,
   "metadata": {
    "_uuid": "b8c3630efb80e2bc3be6ea1065aa94b46a6db99c"
   },
   "outputs": [],
   "source": [
    "df['belongs_to_collection'].head()"
   ]
  },
  {
   "cell_type": "markdown",
   "metadata": {
    "_uuid": "d61f131562e2ce9d3502d697506ad4e5bca1ee35"
   },
   "source": [
    "## I couldn't get the collections working with possible nans, skipping"
   ]
  },
  {
   "cell_type": "code",
   "execution_count": null,
   "metadata": {
    "_uuid": "c9985e7f6b2309c66b758239f12523da5ef55d89"
   },
   "outputs": [],
   "source": [
    "# https://stackoverflow.com/questions/26614465/python-pandas-apply-function-if-a-column-value-is-not-null\n",
    "\n",
    "# df['belongs_to_collection'] = df['belongs_to_collection'].apply(lambda row: ast.literal_eval(row) if (row.notnull().all()) , axis=1).apply(lambda x: x['name'] if isinstance(x, dict) else np.nan)\n",
    "\n",
    "#  df['belongs_to_collection'].apply(lambda row: ast.literal_eval(row) if (row.notnull().all()) else row)\n",
    "\n",
    "#  df['belongs_to_collection'].apply(lambda row: ast.literal_eval(row) if (row.isnull()== False) else row)"
   ]
  },
  {
   "cell_type": "code",
   "execution_count": null,
   "metadata": {
    "_uuid": "dabab264d4e58930ef3965f64e172525c914d4eb"
   },
   "outputs": [],
   "source": [
    "df['belongs_to_collection'] = df['belongs_to_collection'].fillna(\"[]\").apply(ast.literal_eval).apply(lambda x: x['name'] if isinstance(x, dict) else np.nan)\n"
   ]
  },
  {
   "cell_type": "code",
   "execution_count": null,
   "metadata": {
    "_uuid": "e6a7898d30a7e2482327d059c0caf604dcd0494b",
    "collapsed": true
   },
   "outputs": [],
   "source": [
    "## https://www.kaggle.com/rounakbanik/the-story-of-film\n",
    "df['spoken_languages'] = df['spoken_languages'].fillna('[]').apply(ast.literal_eval).apply(lambda x: len(x) if isinstance(x, list) else np.nan)"
   ]
  },
  {
   "cell_type": "code",
   "execution_count": null,
   "metadata": {
    "_uuid": "d10bf1e807c0ef458e5e8137710237f53342d03c"
   },
   "outputs": [],
   "source": [
    "df.head(20)['production_companies'].fillna(\"[]\").apply(lambda x: [i['name'] for i in x] if isinstance(x, list) else [])"
   ]
  },
  {
   "cell_type": "code",
   "execution_count": null,
   "metadata": {
    "_uuid": "f73bd5674b9de4739d690bceb45c7301bb2e11e7"
   },
   "outputs": [],
   "source": [
    "df['production_companies'] = df['production_companies'].apply(ast.literal_eval)\n",
    "df['production_companies'] = df['production_companies'].fillna(\"[]\").apply(lambda x: [i['name'] for i in x] if isinstance(x, list) else [])"
   ]
  },
  {
   "cell_type": "code",
   "execution_count": null,
   "metadata": {
    "_uuid": "322915b81b178abcaf08958f54eaced5b39d2e1d"
   },
   "outputs": [],
   "source": [
    "df.head(3)"
   ]
  },
  {
   "cell_type": "code",
   "execution_count": null,
   "metadata": {
    "_uuid": "383d5044029c9469f00b5caf127e5741c4b26596"
   },
   "outputs": [],
   "source": [
    "df.shape"
   ]
  },
  {
   "cell_type": "code",
   "execution_count": null,
   "metadata": {
    "_uuid": "d76758e2b5ee040eaf21723b9000714844636053"
   },
   "outputs": [],
   "source": [
    "df.to_csv(\"movies_tmdbMeta.csv.gz\",index=False,compression=\"gzip\")"
   ]
  },
  {
   "cell_type": "code",
   "execution_count": null,
   "metadata": {
    "_uuid": "e0cddecef338697c62d8b814eecf6024f5eba06c",
    "collapsed": true
   },
   "outputs": [],
   "source": []
  }
 ],
 "metadata": {
  "kernelspec": {
   "display_name": "Python 3",
   "language": "python",
   "name": "python3"
  },
  "language_info": {
   "codemirror_mode": {
    "name": "ipython",
    "version": 3
   },
   "file_extension": ".py",
   "mimetype": "text/x-python",
   "name": "python",
   "nbconvert_exporter": "python",
   "pygments_lexer": "ipython3",
   "version": "3.6.6"
  }
 },
 "nbformat": 4,
 "nbformat_minor": 1
}
